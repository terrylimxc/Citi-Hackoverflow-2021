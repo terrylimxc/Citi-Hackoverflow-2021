{
 "cells": [
  {
   "cell_type": "markdown",
   "id": "ba6496be",
   "metadata": {},
   "source": [
    "# Databases needed"
   ]
  },
  {
   "cell_type": "markdown",
   "id": "0eebbc6b",
   "metadata": {},
   "source": [
    "### 1. Customer Database\n",
    "- attr: username, password, Vouchers, loyaltyPoints"
   ]
  },
  {
   "cell_type": "markdown",
   "id": "98535aba",
   "metadata": {},
   "source": [
    "### 2. Vendor Database\n",
    "- attr: username, password"
   ]
  },
  {
   "cell_type": "markdown",
   "id": "dc492fe9",
   "metadata": {},
   "source": [
    "# Modules"
   ]
  },
  {
   "cell_type": "markdown",
   "id": "492b28ab",
   "metadata": {},
   "source": [
    "### DatabaseCommunicator module"
   ]
  },
  {
   "cell_type": "code",
   "execution_count": 2,
   "id": "d673e713",
   "metadata": {},
   "outputs": [],
   "source": [
    "from DatabaseCommunicator import retrieveCustomer, retrieveVendor, updateCustomer"
   ]
  },
  {
   "cell_type": "markdown",
   "id": "a17ad342",
   "metadata": {},
   "source": [
    "# Classes"
   ]
  },
  {
   "cell_type": "markdown",
   "id": "b02c9755",
   "metadata": {},
   "source": [
    "### 1. Voucher class\n",
    "- every voucher has a voucherID and associated with a username and amount\n",
    "- QR using generate_qr_image() only when needed"
   ]
  },
  {
   "cell_type": "code",
   "execution_count": 3,
   "id": "066e99a3",
   "metadata": {},
   "outputs": [],
   "source": [
    "from classes.vendor import Vendor\n",
    "from classes.customer import Customer\n",
    "from classes.voucher import Voucher"
   ]
  },
  {
   "cell_type": "code",
   "execution_count": 4,
   "id": "8f230a9e",
   "metadata": {},
   "outputs": [],
   "source": [
    "V = Voucher(\"jacky\",50)"
   ]
  },
  {
   "cell_type": "code",
   "execution_count": 5,
   "id": "9b3cd4db",
   "metadata": {},
   "outputs": [
    {
     "data": {
      "text/plain": [
       "('ccff9906f42311eba6bb9cb6d0216836', 50, 'jacky')"
      ]
     },
     "execution_count": 5,
     "metadata": {},
     "output_type": "execute_result"
    }
   ],
   "source": [
    "V.get_voucherID(),V.get_amount(),V.get_username()"
   ]
  },
  {
   "cell_type": "code",
   "execution_count": 6,
   "id": "883a9b04",
   "metadata": {},
   "outputs": [
    {
     "data": {
      "image/png": "[encoded data removed]",
      "text/plain": [
       "<qrcode.image.pil.PilImage at 0x1fb87ae4e50>"
      ]
     },
     "execution_count": 6,
     "metadata": {},
     "output_type": "execute_result"
    }
   ],
   "source": [
    "V.generate_qr()"
   ]
  },
  {
   "cell_type": "markdown",
   "id": "6f9d5196",
   "metadata": {},
   "source": [
    "### 2. Customer class\n",
    "- customer is identified by username\n",
    "- customer will have password, Vouchers( list of Voucher) and loyalty points"
   ]
  },
  {
   "cell_type": "code",
   "execution_count": 7,
   "id": "7a53b70c",
   "metadata": {},
   "outputs": [],
   "source": [
    "from classes.vendor import Vendor\n",
    "from classes.customer import Customer\n",
    "from classes.voucher import Voucher"
   ]
  },
  {
   "cell_type": "code",
   "execution_count": 8,
   "id": "463aaa92",
   "metadata": {},
   "outputs": [],
   "source": [
    "C = Customer(\"Jack\",\"eedo1dw029\",[],100)"
   ]
  },
  {
   "cell_type": "code",
   "execution_count": 9,
   "id": "d65b1877",
   "metadata": {},
   "outputs": [],
   "source": [
    "C.add_voucher(10)\n",
    "C.add_voucher(50)\n",
    "C.add_voucher(100)\n",
    "C.drop_voucher(100)"
   ]
  },
  {
   "cell_type": "code",
   "execution_count": 10,
   "id": "c25eab0e",
   "metadata": {},
   "outputs": [],
   "source": [
    "C.purchase()"
   ]
  },
  {
   "cell_type": "code",
   "execution_count": 11,
   "id": "ac08bf5a",
   "metadata": {},
   "outputs": [
    {
     "data": {
      "text/plain": [
       "('Jack', 100)"
      ]
     },
     "execution_count": 11,
     "metadata": {},
     "output_type": "execute_result"
    }
   ],
   "source": [
    "C.get_username(),C.get_loyaltyPoints()"
   ]
  },
  {
   "cell_type": "code",
   "execution_count": 12,
   "id": "21c1cb63",
   "metadata": {},
   "outputs": [
    {
     "data": {
      "text/plain": [
       "[<classes.voucher.Voucher at 0x1fb8765c880>,\n",
       " <classes.voucher.Voucher at 0x1fb87c322e0>]"
      ]
     },
     "execution_count": 12,
     "metadata": {},
     "output_type": "execute_result"
    }
   ],
   "source": [
    "C.get_Vouchers()"
   ]
  },
  {
   "cell_type": "markdown",
   "id": "e42d4070",
   "metadata": {},
   "source": [
    "### 3. Vendor class\n",
    "- calls scanQR to expire user's voucher"
   ]
  },
  {
   "cell_type": "code",
   "execution_count": 13,
   "id": "44221d08",
   "metadata": {},
   "outputs": [],
   "source": [
    "from classes.vendor import Vendor\n",
    "from classes.customer import Customer\n",
    "from classes.voucher import Voucher"
   ]
  },
  {
   "cell_type": "code",
   "execution_count": 14,
   "id": "4b092518",
   "metadata": {},
   "outputs": [],
   "source": [
    "V = Vendor(\"Vendor0\",\"213254353\")"
   ]
  },
  {
   "cell_type": "code",
   "execution_count": 15,
   "id": "471f7167",
   "metadata": {},
   "outputs": [],
   "source": [
    "V.scanQR(\"jacky,cf7788eff41511ebb4939cb6d0216836,50\") # jacky has used his 50 dollar voucher"
   ]
  },
  {
   "cell_type": "code",
   "execution_count": null,
   "id": "abe7dc77",
   "metadata": {},
   "outputs": [],
   "source": []
  },
  {
   "cell_type": "code",
   "execution_count": null,
   "id": "514be763",
   "metadata": {},
   "outputs": [],
   "source": []
  },
  {
   "cell_type": "code",
   "execution_count": null,
   "id": "a281ed65",
   "metadata": {},
   "outputs": [],
   "source": []
  },
  {
   "cell_type": "code",
   "execution_count": null,
   "id": "6703ec24",
   "metadata": {},
   "outputs": [],
   "source": []
  },
  {
   "cell_type": "code",
   "execution_count": null,
   "id": "647955f2",
   "metadata": {},
   "outputs": [],
   "source": []
  },
  {
   "cell_type": "code",
   "execution_count": null,
   "id": "bd23881a",
   "metadata": {},
   "outputs": [],
   "source": []
  },
  {
   "cell_type": "code",
   "execution_count": null,
   "id": "9136dcd0",
   "metadata": {},
   "outputs": [],
   "source": []
  },
  {
   "cell_type": "code",
   "execution_count": null,
   "id": "0d21b533",
   "metadata": {},
   "outputs": [],
   "source": []
  },
  {
   "cell_type": "code",
   "execution_count": null,
   "id": "dc801ccd",
   "metadata": {},
   "outputs": [],
   "source": []
  },
  {
   "cell_type": "markdown",
   "id": "053735e1",
   "metadata": {},
   "source": [
    "# DEPRECIATED"
   ]
  },
  {
   "cell_type": "markdown",
   "id": "ea0d5f72",
   "metadata": {},
   "source": [
    "#### QRGenerator"
   ]
  },
  {
   "cell_type": "code",
   "execution_count": 16,
   "id": "93c06a90",
   "metadata": {},
   "outputs": [],
   "source": [
    "import qrcode\n",
    "class QRGenerator():\n",
    "    def __init__(self): \n",
    "        self.qr_generator = qrcode.QRCode(version=1,\n",
    "                                          box_size=10,\n",
    "                                          border=5)\n",
    "        \n",
    "    def generate_qr(self,username, voucherID):\n",
    "                    input_data = f\"{username},{voucherID}\"\n",
    "                    self.qr_generator.clear()\n",
    "                    self.qr_generator.add_data(input_data)\n",
    "                    return self.qr_generator.make_image() "
   ]
  },
  {
   "cell_type": "code",
   "execution_count": 17,
   "id": "0c09871d",
   "metadata": {},
   "outputs": [
    {
     "data": {
      "image/png": "[encoded data removed]",
      "text/plain": [
       "<qrcode.image.pil.PilImage at 0x1fb87c47220>"
      ]
     },
     "execution_count": 17,
     "metadata": {},
     "output_type": "execute_result"
    }
   ],
   "source": [
    "Gen  = QRGenerator()\n",
    "Gen.generate_qr(\"jacky\",\"V124\")    # scanning this gives \"jacky,V124\""
   ]
  }
 ],
 "metadata": {
  "kernelspec": {
   "display_name": "Python 3",
   "language": "python",
   "name": "python3"
  },
  "language_info": {
   "codemirror_mode": {
    "name": "ipython",
    "version": 3
   },
   "file_extension": ".py",
   "mimetype": "text/x-python",
   "name": "python",
   "nbconvert_exporter": "python",
   "pygments_lexer": "ipython3",
   "version": "3.8.3"
  }
 },
 "nbformat": 4,
 "nbformat_minor": 5
}
